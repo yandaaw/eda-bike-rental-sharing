{
  "nbformat": 4,
  "nbformat_minor": 0,
  "metadata": {
    "colab": {
      "name": "Final Project - Data Analysis of Bike Sharing Rental - Sriyanda Afrida Wahyudi - Hacktiv8 [BATCH 40].ipynb",
      "provenance": [],
      "collapsed_sections": []
    },
    "kernelspec": {
      "name": "python3",
      "display_name": "Python 3"
    }
  },
  "cells": [
    {
      "cell_type": "code",
      "metadata": {
        "id": "h07jFtU0Hyk0",
        "colab": {
          "base_uri": "https://localhost:8080/"
        },
        "outputId": "a6f99ad7-9549-410a-f6c5-aa986d8ea0a8"
      },
      "source": [
        "import numpy as np\n",
        "import pandas as pd\n",
        "import seaborn as sns\n",
        "import tensorflow as tf\n",
        "import matplotlib.pyplot as plt\n",
        "\n",
        "# Fungsi untuk memisahkan training data dan testing data\n",
        "from sklearn.model_selection import train_test_split\n",
        "from sklearn.preprocessing import StandardScaler\n",
        "\n",
        "# Fungsi untuk memanggil model Machine Learning\n",
        "from sklearn.linear_model import LinearRegression, LogisticRegression\n",
        "from sklearn.tree import DecisionTreeClassifier, export, export_graphviz, plot_tree\n",
        "from sklearn.cluster import KMeans\n",
        "\n",
        "# Fungsi untuk melakukan normalisasi dan standardisasi data\n",
        "from sklearn.preprocessing import StandardScaler, MinMaxScaler\n",
        "\n",
        "# Fungsi untuk menghitung evaluation metrics\n",
        "from sklearn import metrics, datasets"
      ],
      "execution_count": null,
      "outputs": [
        {
          "output_type": "stream",
          "text": [
            "/usr/local/lib/python3.7/dist-packages/sklearn/utils/deprecation.py:144: FutureWarning: The sklearn.tree.export module is  deprecated in version 0.22 and will be removed in version 0.24. The corresponding classes / functions should instead be imported from sklearn.tree. Anything that cannot be imported from sklearn.tree is now part of the private API.\n",
            "  warnings.warn(message, FutureWarning)\n"
          ],
          "name": "stderr"
        }
      ]
    },
    {
      "cell_type": "markdown",
      "metadata": {
        "id": "JV2aABcWLrpa"
      },
      "source": [
        "# **Dataset**"
      ]
    },
    {
      "cell_type": "code",
      "metadata": {
        "id": "ehShq7TbJ6t4"
      },
      "source": [
        "data_bike = pd.read_csv('http://bit.ly/dwp-data-bike')"
      ],
      "execution_count": null,
      "outputs": []
    },
    {
      "cell_type": "code",
      "metadata": {
        "id": "nBqHGuASLqqW",
        "colab": {
          "base_uri": "https://localhost:8080/",
          "height": 191
        },
        "outputId": "03094128-ddcb-4ed1-a09b-8765ce6dc3cb"
      },
      "source": [
        "data_bike.head()"
      ],
      "execution_count": null,
      "outputs": [
        {
          "output_type": "execute_result",
          "data": {
            "text/html": [
              "<div>\n",
              "<style scoped>\n",
              "    .dataframe tbody tr th:only-of-type {\n",
              "        vertical-align: middle;\n",
              "    }\n",
              "\n",
              "    .dataframe tbody tr th {\n",
              "        vertical-align: top;\n",
              "    }\n",
              "\n",
              "    .dataframe thead th {\n",
              "        text-align: right;\n",
              "    }\n",
              "</style>\n",
              "<table border=\"1\" class=\"dataframe\">\n",
              "  <thead>\n",
              "    <tr style=\"text-align: right;\">\n",
              "      <th></th>\n",
              "      <th>tripduration</th>\n",
              "      <th>starttime</th>\n",
              "      <th>stoptime</th>\n",
              "      <th>start station name</th>\n",
              "      <th>end station name</th>\n",
              "      <th>bikeid</th>\n",
              "      <th>usertype</th>\n",
              "      <th>birth year</th>\n",
              "      <th>gender</th>\n",
              "    </tr>\n",
              "  </thead>\n",
              "  <tbody>\n",
              "    <tr>\n",
              "      <th>0</th>\n",
              "      <td>261</td>\n",
              "      <td>2019-08-01 00:14:55.9900</td>\n",
              "      <td>2019-08-01 00:19:17.4780</td>\n",
              "      <td>JC Medical Center</td>\n",
              "      <td>Liberty Light Rail</td>\n",
              "      <td>26268</td>\n",
              "      <td>Subscriber</td>\n",
              "      <td>1980</td>\n",
              "      <td>1</td>\n",
              "    </tr>\n",
              "    <tr>\n",
              "      <th>1</th>\n",
              "      <td>172</td>\n",
              "      <td>2019-08-01 00:23:06.9910</td>\n",
              "      <td>2019-08-01 00:25:59.1480</td>\n",
              "      <td>Dixon Mills</td>\n",
              "      <td>Grove St PATH</td>\n",
              "      <td>26162</td>\n",
              "      <td>Subscriber</td>\n",
              "      <td>1996</td>\n",
              "      <td>1</td>\n",
              "    </tr>\n",
              "    <tr>\n",
              "      <th>2</th>\n",
              "      <td>525</td>\n",
              "      <td>2019-08-01 00:23:28.6170</td>\n",
              "      <td>2019-08-01 00:32:13.7000</td>\n",
              "      <td>Newport Pkwy</td>\n",
              "      <td>Hamilton Park</td>\n",
              "      <td>29279</td>\n",
              "      <td>Subscriber</td>\n",
              "      <td>1991</td>\n",
              "      <td>1</td>\n",
              "    </tr>\n",
              "    <tr>\n",
              "      <th>3</th>\n",
              "      <td>219</td>\n",
              "      <td>2019-08-01 00:32:36.1410</td>\n",
              "      <td>2019-08-01 00:36:15.2730</td>\n",
              "      <td>Warren St</td>\n",
              "      <td>City Hall</td>\n",
              "      <td>29598</td>\n",
              "      <td>Subscriber</td>\n",
              "      <td>1988</td>\n",
              "      <td>1</td>\n",
              "    </tr>\n",
              "    <tr>\n",
              "      <th>4</th>\n",
              "      <td>262</td>\n",
              "      <td>2019-08-01 00:41:26.6700</td>\n",
              "      <td>2019-08-01 00:45:49.3530</td>\n",
              "      <td>Grove St PATH</td>\n",
              "      <td>Jersey &amp; 3rd</td>\n",
              "      <td>26162</td>\n",
              "      <td>Subscriber</td>\n",
              "      <td>1960</td>\n",
              "      <td>1</td>\n",
              "    </tr>\n",
              "  </tbody>\n",
              "</table>\n",
              "</div>"
            ],
            "text/plain": [
              "   tripduration                 starttime  ... birth year gender\n",
              "0           261  2019-08-01 00:14:55.9900  ...       1980      1\n",
              "1           172  2019-08-01 00:23:06.9910  ...       1996      1\n",
              "2           525  2019-08-01 00:23:28.6170  ...       1991      1\n",
              "3           219  2019-08-01 00:32:36.1410  ...       1988      1\n",
              "4           262  2019-08-01 00:41:26.6700  ...       1960      1\n",
              "\n",
              "[5 rows x 9 columns]"
            ]
          },
          "metadata": {
            "tags": []
          },
          "execution_count": 3
        }
      ]
    },
    {
      "cell_type": "code",
      "metadata": {
        "id": "C3bu-vpCHqzu",
        "colab": {
          "base_uri": "https://localhost:8080/"
        },
        "outputId": "2ecead0d-bfa7-434e-ec17-c07530c83783"
      },
      "source": [
        "data_bike.info()"
      ],
      "execution_count": null,
      "outputs": [
        {
          "output_type": "stream",
          "text": [
            "<class 'pandas.core.frame.DataFrame'>\n",
            "RangeIndex: 46230 entries, 0 to 46229\n",
            "Data columns (total 9 columns):\n",
            " #   Column              Non-Null Count  Dtype \n",
            "---  ------              --------------  ----- \n",
            " 0   tripduration        46230 non-null  int64 \n",
            " 1   starttime           46230 non-null  object\n",
            " 2   stoptime            46230 non-null  object\n",
            " 3   start station name  46230 non-null  object\n",
            " 4   end station name    46230 non-null  object\n",
            " 5   bikeid              46230 non-null  int64 \n",
            " 6   usertype            46230 non-null  object\n",
            " 7   birth year          46230 non-null  int64 \n",
            " 8   gender              46230 non-null  int64 \n",
            "dtypes: int64(4), object(5)\n",
            "memory usage: 3.2+ MB\n"
          ],
          "name": "stdout"
        }
      ]
    },
    {
      "cell_type": "markdown",
      "metadata": {
        "id": "nOVp7eIPLYXT"
      },
      "source": [
        "## **Data Analysis**"
      ]
    },
    {
      "cell_type": "markdown",
      "metadata": {
        "id": "6KvHp3xnLjku"
      },
      "source": [
        "### **Data Analysis of Bike Sharing Rental** \n",
        "\n",
        "Berikut merupakan dataset bike sharing dengan total 46.230 rows x 16 columns. Dimana dataset ini menjelaskan mengenai sistem bike sharing yang menjadi sarana persewaan sepeda mulai dari mendapatkan keanggotaan, persewaan, waktu peminjaman dan pengembalian sepeda. Proses bisnis dilakukan secara otomatis melalui network of kiosk locations di seluruh kota. Dengan menggunakan sistem ini, orang dapat menyewa sepeda dari satu lokasi dan mengembalikannya ke tempat lain sesuai kebutuhan.\n",
        "\n",
        "Data yang dihasilkan oleh sistem ini menarik untuk diteliti dan dianalisis, dengan menjawab pertanyaan yang ada dan kemudian mengambil insight dari proses analisis yang dilakukan. Sebab attribute dalam data seperti durasi perjalanan, lokasi keberangkatan, lokasi kedatangan, dan waktu yang telah berlalu dicatat secara eksplisit dan dapat digunakan untuk mempelajari mobilitas di kota."
      ]
    },
    {
      "cell_type": "markdown",
      "metadata": {
        "id": "EQkvnHFwL4E8"
      },
      "source": [
        "## **Question**"
      ]
    },
    {
      "cell_type": "markdown",
      "metadata": {
        "id": "lvP-L7fNL8GI"
      },
      "source": [
        "1. Kelompok umur dan gender apa saja yang paling banyak menggunakan Citybike rental?\n",
        "2. Berapa total trip (peminjaman sepeda) pada setiap hari (Senin - Minggu) dan waktu (hour) nya? \n",
        "3. Hari (Senin - Minggu) apa yang memiliki peminjaman sepeda paling banyak terjadi? \n",
        "4. 5 Stasiun keberangkatan favorit dan waktu (hour) dengan peminjaman sepeda paling favorit\n",
        "5. Apakah semakin tua umur seseorang (age) mempengaruhi lama waktunya peminjaman sepeda (trip duration by minute)?"
      ]
    },
    {
      "cell_type": "markdown",
      "metadata": {
        "id": "dnD6JJ58MDd1"
      },
      "source": [
        "## **Wrangle**"
      ]
    },
    {
      "cell_type": "code",
      "metadata": {
        "id": "_VvxMktxL_2V"
      },
      "source": [
        "# Mengganti kolom starttime menjadi tipe data datetime\n",
        "data_bike['starttime'] = pd.to_datetime(data_bike['starttime'])\n",
        "\n",
        "# Mengekstrak value yang diinginkan (hari) menggunakan .dt.strftime('')\n",
        "data_bike['dayname'] = data_bike['starttime'].dt.strftime('%A')\n",
        "\n",
        "# Menganti tipe data dayname menjadi categorical\n",
        "data_bike['dayname'] = pd.Categorical(data_bike['dayname'],\n",
        "                                    ordered=True,\n",
        "                                    categories=['Monday',\n",
        "                                               'Tuesday',\n",
        "                                               'Wednesday',\n",
        "                                               'Thursday',\n",
        "                                               'Friday',\n",
        "                                               'Saturday',\n",
        "                                               'Sunday'])"
      ],
      "execution_count": null,
      "outputs": []
    },
    {
      "cell_type": "code",
      "metadata": {
        "id": "rr99UF5CL_9v"
      },
      "source": [
        "# Menambahkan kolom Hour\n",
        "data_bike['hour'] = data_bike['starttime'].dt.strftime('%I %p')"
      ],
      "execution_count": null,
      "outputs": []
    },
    {
      "cell_type": "code",
      "metadata": {
        "id": "Nd2A4b9OMEr4"
      },
      "source": [
        "# Menambah kolom umur\n",
        "data_bike['age'] = 2020 - data_bike['birth year']"
      ],
      "execution_count": null,
      "outputs": []
    },
    {
      "cell_type": "code",
      "metadata": {
        "id": "TrauKfyJMEui",
        "colab": {
          "base_uri": "https://localhost:8080/",
          "height": 391
        },
        "outputId": "8b25a62a-16b6-41a9-8fe4-9aeaa18d6537"
      },
      "source": [
        "# Menambahkan kolom route {start station name - end station name}\n",
        "# functionnya\n",
        "def add_route(row):\n",
        "    return row['start station name'] + ' - ' + row['end station name']\n",
        "\n",
        "# Apply functionnya\n",
        "data_bike['route'] = data_bike.apply(add_route, axis=1)\n",
        "\n",
        "data_bike[['tripduration', 'start station name', 'end station name', 'route']]"
      ],
      "execution_count": null,
      "outputs": [
        {
          "output_type": "execute_result",
          "data": {
            "text/html": [
              "<div>\n",
              "<style scoped>\n",
              "    .dataframe tbody tr th:only-of-type {\n",
              "        vertical-align: middle;\n",
              "    }\n",
              "\n",
              "    .dataframe tbody tr th {\n",
              "        vertical-align: top;\n",
              "    }\n",
              "\n",
              "    .dataframe thead th {\n",
              "        text-align: right;\n",
              "    }\n",
              "</style>\n",
              "<table border=\"1\" class=\"dataframe\">\n",
              "  <thead>\n",
              "    <tr style=\"text-align: right;\">\n",
              "      <th></th>\n",
              "      <th>tripduration</th>\n",
              "      <th>start station name</th>\n",
              "      <th>end station name</th>\n",
              "      <th>route</th>\n",
              "    </tr>\n",
              "  </thead>\n",
              "  <tbody>\n",
              "    <tr>\n",
              "      <th>0</th>\n",
              "      <td>261</td>\n",
              "      <td>JC Medical Center</td>\n",
              "      <td>Liberty Light Rail</td>\n",
              "      <td>JC Medical Center - Liberty Light Rail</td>\n",
              "    </tr>\n",
              "    <tr>\n",
              "      <th>1</th>\n",
              "      <td>172</td>\n",
              "      <td>Dixon Mills</td>\n",
              "      <td>Grove St PATH</td>\n",
              "      <td>Dixon Mills - Grove St PATH</td>\n",
              "    </tr>\n",
              "    <tr>\n",
              "      <th>2</th>\n",
              "      <td>525</td>\n",
              "      <td>Newport Pkwy</td>\n",
              "      <td>Hamilton Park</td>\n",
              "      <td>Newport Pkwy - Hamilton Park</td>\n",
              "    </tr>\n",
              "    <tr>\n",
              "      <th>3</th>\n",
              "      <td>219</td>\n",
              "      <td>Warren St</td>\n",
              "      <td>City Hall</td>\n",
              "      <td>Warren St - City Hall</td>\n",
              "    </tr>\n",
              "    <tr>\n",
              "      <th>4</th>\n",
              "      <td>262</td>\n",
              "      <td>Grove St PATH</td>\n",
              "      <td>Jersey &amp; 3rd</td>\n",
              "      <td>Grove St PATH - Jersey &amp; 3rd</td>\n",
              "    </tr>\n",
              "    <tr>\n",
              "      <th>...</th>\n",
              "      <td>...</td>\n",
              "      <td>...</td>\n",
              "      <td>...</td>\n",
              "      <td>...</td>\n",
              "    </tr>\n",
              "    <tr>\n",
              "      <th>46225</th>\n",
              "      <td>384</td>\n",
              "      <td>Harborside</td>\n",
              "      <td>Hamilton Park</td>\n",
              "      <td>Harborside - Hamilton Park</td>\n",
              "    </tr>\n",
              "    <tr>\n",
              "      <th>46226</th>\n",
              "      <td>633</td>\n",
              "      <td>Grove St PATH</td>\n",
              "      <td>City Hall</td>\n",
              "      <td>Grove St PATH - City Hall</td>\n",
              "    </tr>\n",
              "    <tr>\n",
              "      <th>46227</th>\n",
              "      <td>324</td>\n",
              "      <td>Marin Light Rail</td>\n",
              "      <td>Newark Ave</td>\n",
              "      <td>Marin Light Rail - Newark Ave</td>\n",
              "    </tr>\n",
              "    <tr>\n",
              "      <th>46228</th>\n",
              "      <td>126</td>\n",
              "      <td>Newark Ave</td>\n",
              "      <td>Brunswick St</td>\n",
              "      <td>Newark Ave - Brunswick St</td>\n",
              "    </tr>\n",
              "    <tr>\n",
              "      <th>46229</th>\n",
              "      <td>690</td>\n",
              "      <td>City Hall</td>\n",
              "      <td>Communipaw &amp; Berry Lane</td>\n",
              "      <td>City Hall - Communipaw &amp; Berry Lane</td>\n",
              "    </tr>\n",
              "  </tbody>\n",
              "</table>\n",
              "<p>46230 rows × 4 columns</p>\n",
              "</div>"
            ],
            "text/plain": [
              "       tripduration  ...                                   route\n",
              "0               261  ...  JC Medical Center - Liberty Light Rail\n",
              "1               172  ...             Dixon Mills - Grove St PATH\n",
              "2               525  ...            Newport Pkwy - Hamilton Park\n",
              "3               219  ...                   Warren St - City Hall\n",
              "4               262  ...            Grove St PATH - Jersey & 3rd\n",
              "...             ...  ...                                     ...\n",
              "46225           384  ...              Harborside - Hamilton Park\n",
              "46226           633  ...               Grove St PATH - City Hall\n",
              "46227           324  ...           Marin Light Rail - Newark Ave\n",
              "46228           126  ...               Newark Ave - Brunswick St\n",
              "46229           690  ...     City Hall - Communipaw & Berry Lane\n",
              "\n",
              "[46230 rows x 4 columns]"
            ]
          },
          "metadata": {
            "tags": []
          },
          "execution_count": 8
        }
      ]
    },
    {
      "cell_type": "code",
      "metadata": {
        "id": "A_7IoT-4MExF"
      },
      "source": [
        "# Pengelompokan generasi berdasarkan umur\n",
        "data_bike['age_category'] = data_bike['age']\n",
        "\n",
        "# Membuat functionnya untuk memetakan data generasi berdasarkan pengelompokan umur\n",
        "def convert_age_category(row):\n",
        "    if row['age'] <= 25:\n",
        "        return 'Gen Z'\n",
        "    elif row['age'] <= 39:\n",
        "        return 'Milenial'\n",
        "    elif row['age'] <= 55:\n",
        "        return 'Gen X'\n",
        "    elif row['age'] <= 74:\n",
        "        return 'Baby Boomers'\n",
        "    elif row['age'] <= 98:\n",
        "        return 'Tradisional'\n",
        "    else:\n",
        "        return 'unknown'\n",
        "\n",
        "# Apply function\n",
        "\n",
        "data_bike['kategori_umur'] = data_bike.apply(convert_age_category, axis=1)"
      ],
      "execution_count": null,
      "outputs": []
    },
    {
      "cell_type": "code",
      "metadata": {
        "id": "sTMtRrPxMEzl"
      },
      "source": [
        "# Menambahkan kolom duration by minute\n",
        "data_bike['tripduration_by_minute'] = round(data_bike['tripduration'] / 60)"
      ],
      "execution_count": null,
      "outputs": []
    },
    {
      "cell_type": "code",
      "metadata": {
        "colab": {
          "base_uri": "https://localhost:8080/",
          "height": 288
        },
        "id": "lIMieLkg-Gr7",
        "outputId": "affc0df4-33ff-471b-b63d-cc606adc87c3"
      },
      "source": [
        "data_bike.head(5)"
      ],
      "execution_count": null,
      "outputs": [
        {
          "output_type": "execute_result",
          "data": {
            "text/html": [
              "<div>\n",
              "<style scoped>\n",
              "    .dataframe tbody tr th:only-of-type {\n",
              "        vertical-align: middle;\n",
              "    }\n",
              "\n",
              "    .dataframe tbody tr th {\n",
              "        vertical-align: top;\n",
              "    }\n",
              "\n",
              "    .dataframe thead th {\n",
              "        text-align: right;\n",
              "    }\n",
              "</style>\n",
              "<table border=\"1\" class=\"dataframe\">\n",
              "  <thead>\n",
              "    <tr style=\"text-align: right;\">\n",
              "      <th></th>\n",
              "      <th>tripduration</th>\n",
              "      <th>starttime</th>\n",
              "      <th>stoptime</th>\n",
              "      <th>start station name</th>\n",
              "      <th>end station name</th>\n",
              "      <th>bikeid</th>\n",
              "      <th>usertype</th>\n",
              "      <th>birth year</th>\n",
              "      <th>gender</th>\n",
              "      <th>dayname</th>\n",
              "      <th>hour</th>\n",
              "      <th>age</th>\n",
              "      <th>route</th>\n",
              "      <th>age_category</th>\n",
              "      <th>kategori_umur</th>\n",
              "      <th>tripduration_by_minute</th>\n",
              "    </tr>\n",
              "  </thead>\n",
              "  <tbody>\n",
              "    <tr>\n",
              "      <th>0</th>\n",
              "      <td>261</td>\n",
              "      <td>2019-08-01 00:14:55.990</td>\n",
              "      <td>2019-08-01 00:19:17.4780</td>\n",
              "      <td>JC Medical Center</td>\n",
              "      <td>Liberty Light Rail</td>\n",
              "      <td>26268</td>\n",
              "      <td>Subscriber</td>\n",
              "      <td>1980</td>\n",
              "      <td>1</td>\n",
              "      <td>Thursday</td>\n",
              "      <td>12 AM</td>\n",
              "      <td>40</td>\n",
              "      <td>JC Medical Center - Liberty Light Rail</td>\n",
              "      <td>40</td>\n",
              "      <td>Gen X</td>\n",
              "      <td>4.0</td>\n",
              "    </tr>\n",
              "    <tr>\n",
              "      <th>1</th>\n",
              "      <td>172</td>\n",
              "      <td>2019-08-01 00:23:06.991</td>\n",
              "      <td>2019-08-01 00:25:59.1480</td>\n",
              "      <td>Dixon Mills</td>\n",
              "      <td>Grove St PATH</td>\n",
              "      <td>26162</td>\n",
              "      <td>Subscriber</td>\n",
              "      <td>1996</td>\n",
              "      <td>1</td>\n",
              "      <td>Thursday</td>\n",
              "      <td>12 AM</td>\n",
              "      <td>24</td>\n",
              "      <td>Dixon Mills - Grove St PATH</td>\n",
              "      <td>24</td>\n",
              "      <td>Gen Z</td>\n",
              "      <td>3.0</td>\n",
              "    </tr>\n",
              "    <tr>\n",
              "      <th>2</th>\n",
              "      <td>525</td>\n",
              "      <td>2019-08-01 00:23:28.617</td>\n",
              "      <td>2019-08-01 00:32:13.7000</td>\n",
              "      <td>Newport Pkwy</td>\n",
              "      <td>Hamilton Park</td>\n",
              "      <td>29279</td>\n",
              "      <td>Subscriber</td>\n",
              "      <td>1991</td>\n",
              "      <td>1</td>\n",
              "      <td>Thursday</td>\n",
              "      <td>12 AM</td>\n",
              "      <td>29</td>\n",
              "      <td>Newport Pkwy - Hamilton Park</td>\n",
              "      <td>29</td>\n",
              "      <td>Milenial</td>\n",
              "      <td>9.0</td>\n",
              "    </tr>\n",
              "    <tr>\n",
              "      <th>3</th>\n",
              "      <td>219</td>\n",
              "      <td>2019-08-01 00:32:36.141</td>\n",
              "      <td>2019-08-01 00:36:15.2730</td>\n",
              "      <td>Warren St</td>\n",
              "      <td>City Hall</td>\n",
              "      <td>29598</td>\n",
              "      <td>Subscriber</td>\n",
              "      <td>1988</td>\n",
              "      <td>1</td>\n",
              "      <td>Thursday</td>\n",
              "      <td>12 AM</td>\n",
              "      <td>32</td>\n",
              "      <td>Warren St - City Hall</td>\n",
              "      <td>32</td>\n",
              "      <td>Milenial</td>\n",
              "      <td>4.0</td>\n",
              "    </tr>\n",
              "    <tr>\n",
              "      <th>4</th>\n",
              "      <td>262</td>\n",
              "      <td>2019-08-01 00:41:26.670</td>\n",
              "      <td>2019-08-01 00:45:49.3530</td>\n",
              "      <td>Grove St PATH</td>\n",
              "      <td>Jersey &amp; 3rd</td>\n",
              "      <td>26162</td>\n",
              "      <td>Subscriber</td>\n",
              "      <td>1960</td>\n",
              "      <td>1</td>\n",
              "      <td>Thursday</td>\n",
              "      <td>12 AM</td>\n",
              "      <td>60</td>\n",
              "      <td>Grove St PATH - Jersey &amp; 3rd</td>\n",
              "      <td>60</td>\n",
              "      <td>Baby Boomers</td>\n",
              "      <td>4.0</td>\n",
              "    </tr>\n",
              "  </tbody>\n",
              "</table>\n",
              "</div>"
            ],
            "text/plain": [
              "   tripduration               starttime  ... kategori_umur tripduration_by_minute\n",
              "0           261 2019-08-01 00:14:55.990  ...         Gen X                    4.0\n",
              "1           172 2019-08-01 00:23:06.991  ...         Gen Z                    3.0\n",
              "2           525 2019-08-01 00:23:28.617  ...      Milenial                    9.0\n",
              "3           219 2019-08-01 00:32:36.141  ...      Milenial                    4.0\n",
              "4           262 2019-08-01 00:41:26.670  ...  Baby Boomers                    4.0\n",
              "\n",
              "[5 rows x 16 columns]"
            ]
          },
          "metadata": {
            "tags": []
          },
          "execution_count": 11
        }
      ]
    },
    {
      "cell_type": "code",
      "metadata": {
        "id": "xVU2oUuXgzrI",
        "colab": {
          "base_uri": "https://localhost:8080/"
        },
        "outputId": "5a86622e-0b51-446a-8516-c4a99417a005"
      },
      "source": [
        "data_bike.info()"
      ],
      "execution_count": null,
      "outputs": [
        {
          "output_type": "stream",
          "text": [
            "<class 'pandas.core.frame.DataFrame'>\n",
            "RangeIndex: 46230 entries, 0 to 46229\n",
            "Data columns (total 16 columns):\n",
            " #   Column                  Non-Null Count  Dtype         \n",
            "---  ------                  --------------  -----         \n",
            " 0   tripduration            46230 non-null  int64         \n",
            " 1   starttime               46230 non-null  datetime64[ns]\n",
            " 2   stoptime                46230 non-null  object        \n",
            " 3   start station name      46230 non-null  object        \n",
            " 4   end station name        46230 non-null  object        \n",
            " 5   bikeid                  46230 non-null  int64         \n",
            " 6   usertype                46230 non-null  object        \n",
            " 7   birth year              46230 non-null  int64         \n",
            " 8   gender                  46230 non-null  int64         \n",
            " 9   dayname                 46230 non-null  category      \n",
            " 10  hour                    46230 non-null  object        \n",
            " 11  age                     46230 non-null  int64         \n",
            " 12  route                   46230 non-null  object        \n",
            " 13  age_category            46230 non-null  int64         \n",
            " 14  kategori_umur           46230 non-null  object        \n",
            " 15  tripduration_by_minute  46230 non-null  float64       \n",
            "dtypes: category(1), datetime64[ns](1), float64(1), int64(6), object(7)\n",
            "memory usage: 5.3+ MB\n"
          ],
          "name": "stdout"
        }
      ]
    },
    {
      "cell_type": "markdown",
      "metadata": {
        "id": "XhaDh3QPMXdX"
      },
      "source": [
        "## **Explore**"
      ]
    },
    {
      "cell_type": "markdown",
      "metadata": {
        "id": "_1Y4KWLRMbFA"
      },
      "source": [
        "#### 1. Kelompok umur dan gender apa saja yang paling banyak menggunakan Citybike rental?"
      ]
    },
    {
      "cell_type": "code",
      "metadata": {
        "id": "53cVvTQwME7O",
        "colab": {
          "base_uri": "https://localhost:8080/",
          "height": 191
        },
        "outputId": "c95e209f-0b01-4dfc-bbd7-8de4248dcc3f"
      },
      "source": [
        "users = data_bike.groupby(['age','gender','kategori_umur'], as_index=False)['bikeid'].count() \\\n",
        "                 .rename(columns={'bikeid': 'total'}) \\\n",
        "                 .sort_values('total', ascending=False) \\\n",
        "                 .head()\n",
        "\n",
        "# users"
      ],
      "execution_count": null,
      "outputs": [
        {
          "output_type": "execute_result",
          "data": {
            "text/html": [
              "<div>\n",
              "<style scoped>\n",
              "    .dataframe tbody tr th:only-of-type {\n",
              "        vertical-align: middle;\n",
              "    }\n",
              "\n",
              "    .dataframe tbody tr th {\n",
              "        vertical-align: top;\n",
              "    }\n",
              "\n",
              "    .dataframe thead th {\n",
              "        text-align: right;\n",
              "    }\n",
              "</style>\n",
              "<table border=\"1\" class=\"dataframe\">\n",
              "  <thead>\n",
              "    <tr style=\"text-align: right;\">\n",
              "      <th></th>\n",
              "      <th>age</th>\n",
              "      <th>gender</th>\n",
              "      <th>kategori_umur</th>\n",
              "      <th>total</th>\n",
              "    </tr>\n",
              "  </thead>\n",
              "  <tbody>\n",
              "    <tr>\n",
              "      <th>91</th>\n",
              "      <td>51</td>\n",
              "      <td>0</td>\n",
              "      <td>Gen X</td>\n",
              "      <td>2961</td>\n",
              "    </tr>\n",
              "    <tr>\n",
              "      <th>40</th>\n",
              "      <td>32</td>\n",
              "      <td>1</td>\n",
              "      <td>Milenial</td>\n",
              "      <td>1868</td>\n",
              "    </tr>\n",
              "    <tr>\n",
              "      <th>37</th>\n",
              "      <td>31</td>\n",
              "      <td>1</td>\n",
              "      <td>Milenial</td>\n",
              "      <td>1780</td>\n",
              "    </tr>\n",
              "    <tr>\n",
              "      <th>43</th>\n",
              "      <td>33</td>\n",
              "      <td>1</td>\n",
              "      <td>Milenial</td>\n",
              "      <td>1622</td>\n",
              "    </tr>\n",
              "    <tr>\n",
              "      <th>46</th>\n",
              "      <td>34</td>\n",
              "      <td>1</td>\n",
              "      <td>Milenial</td>\n",
              "      <td>1618</td>\n",
              "    </tr>\n",
              "  </tbody>\n",
              "</table>\n",
              "</div>"
            ],
            "text/plain": [
              "    age  gender kategori_umur  total\n",
              "91   51       0         Gen X   2961\n",
              "40   32       1      Milenial   1868\n",
              "37   31       1      Milenial   1780\n",
              "43   33       1      Milenial   1622\n",
              "46   34       1      Milenial   1618"
            ]
          },
          "metadata": {
            "tags": []
          },
          "execution_count": 12
        }
      ]
    },
    {
      "cell_type": "code",
      "metadata": {
        "id": "KLPdDfeTME-V",
        "colab": {
          "base_uri": "https://localhost:8080/",
          "height": 278
        },
        "outputId": "b16f0906-9cb0-46c9-b661-954d7c1e1314"
      },
      "source": [
        "# Visualisasi menggunakan seaborn\n",
        "sns.violinplot(data=data_bike, x='gender', y='age_category')\n",
        "plt.show()"
      ],
      "execution_count": null,
      "outputs": [
        {
          "output_type": "display_data",
          "data": {
            "image/png": "[encoded data removed]",
            "text/plain": [
              "<Figure size 432x288 with 1 Axes>"
            ]
          },
          "metadata": {
            "tags": [],
            "needs_background": "light"
          }
        }
      ]
    },
    {
      "cell_type": "markdown",
      "metadata": {
        "id": "KHunlDR4M6fW"
      },
      "source": [
        "#### 2.) Berapa total trip (peminjaman sepeda) pada setiap hari (Senin - Minggu) dan waktu (hour) nya?"
      ]
    },
    {
      "cell_type": "code",
      "metadata": {
        "id": "pq11QwCOM0K7",
        "colab": {
          "base_uri": "https://localhost:8080/",
          "height": 197
        },
        "outputId": "c4a48de6-e685-40e2-cd36-abcccbce1b7c"
      },
      "source": [
        "total_by_dayhour = data_bike.groupby(['dayname','hour'], as_index=False)['gender'].count() \\\n",
        "                            .rename(columns={'gender': 'total'}) \\\n",
        "                            .sort_values('total', ascending=False) \\\n",
        "                            .head()\n",
        "\n",
        "total_by_dayhour"
      ],
      "execution_count": null,
      "outputs": [
        {
          "output_type": "execute_result",
          "data": {
            "text/html": [
              "<div>\n",
              "<style scoped>\n",
              "    .dataframe tbody tr th:only-of-type {\n",
              "        vertical-align: middle;\n",
              "    }\n",
              "\n",
              "    .dataframe tbody tr th {\n",
              "        vertical-align: top;\n",
              "    }\n",
              "\n",
              "    .dataframe thead th {\n",
              "        text-align: right;\n",
              "    }\n",
              "</style>\n",
              "<table border=\"1\" class=\"dataframe\">\n",
              "  <thead>\n",
              "    <tr style=\"text-align: right;\">\n",
              "      <th></th>\n",
              "      <th>dayname</th>\n",
              "      <th>hour</th>\n",
              "      <th>total</th>\n",
              "    </tr>\n",
              "  </thead>\n",
              "  <tbody>\n",
              "    <tr>\n",
              "      <th>86</th>\n",
              "      <td>Thursday</td>\n",
              "      <td>08 AM</td>\n",
              "      <td>1147</td>\n",
              "    </tr>\n",
              "    <tr>\n",
              "      <th>83</th>\n",
              "      <td>Thursday</td>\n",
              "      <td>06 PM</td>\n",
              "      <td>1037</td>\n",
              "    </tr>\n",
              "    <tr>\n",
              "      <th>110</th>\n",
              "      <td>Friday</td>\n",
              "      <td>08 AM</td>\n",
              "      <td>950</td>\n",
              "    </tr>\n",
              "    <tr>\n",
              "      <th>38</th>\n",
              "      <td>Tuesday</td>\n",
              "      <td>08 AM</td>\n",
              "      <td>924</td>\n",
              "    </tr>\n",
              "    <tr>\n",
              "      <th>81</th>\n",
              "      <td>Thursday</td>\n",
              "      <td>05 PM</td>\n",
              "      <td>892</td>\n",
              "    </tr>\n",
              "  </tbody>\n",
              "</table>\n",
              "</div>"
            ],
            "text/plain": [
              "      dayname   hour  total\n",
              "86   Thursday  08 AM   1147\n",
              "83   Thursday  06 PM   1037\n",
              "110    Friday  08 AM    950\n",
              "38    Tuesday  08 AM    924\n",
              "81   Thursday  05 PM    892"
            ]
          },
          "metadata": {
            "tags": []
          },
          "execution_count": 12
        }
      ]
    },
    {
      "cell_type": "code",
      "metadata": {
        "id": "0AXmI8qwM2W7",
        "colab": {
          "base_uri": "https://localhost:8080/",
          "height": 282
        },
        "outputId": "b6b17e7e-417b-4c08-a713-ec42577cd28a"
      },
      "source": [
        "# Mengatur height x width visualisasi\n",
        "plt.figure(figsize=(15,4))\n",
        "\n",
        "# Visualisasi menggunakan seaborn\n",
        "sns.barplot(data=total_by_dayhour, x='dayname', y='total', hue='hour')\n",
        "\n",
        "plt.ylabel('TOTAL')\n",
        "plt.xlabel('HARI')\n",
        "\n",
        "plt.show()"
      ],
      "execution_count": null,
      "outputs": [
        {
          "output_type": "display_data",
          "data": {
            "image/png": "[encoded data removed]",
            "text/plain": [
              "<Figure size 1080x288 with 1 Axes>"
            ]
          },
          "metadata": {
            "tags": [],
            "needs_background": "light"
          }
        }
      ]
    },
    {
      "cell_type": "markdown",
      "metadata": {
        "id": "lj-txfF5NFeX"
      },
      "source": [
        "#### 3. Hari (Senin - Minggu) apa yang memiliki peminjaman sepeda paling banyak terjadi?"
      ]
    },
    {
      "cell_type": "code",
      "metadata": {
        "id": "_8lSh6HiM22R",
        "colab": {
          "base_uri": "https://localhost:8080/",
          "height": 257
        },
        "outputId": "6edef24d-21de-4cd3-8492-1a6d590c5aec"
      },
      "source": [
        "data_bike['dayname'] = data_bike['starttime'].dt.strftime('%A')\n",
        "\n",
        "total_by_day = data_bike.groupby('dayname', as_index=False)['gender'].count() \\\n",
        "                        .rename(columns={'gender': 'total'}) \\\n",
        "                        .sort_values('total', ascending=False)\n",
        "\n",
        "total_by_day"
      ],
      "execution_count": null,
      "outputs": [
        {
          "output_type": "execute_result",
          "data": {
            "text/html": [
              "<div>\n",
              "<style scoped>\n",
              "    .dataframe tbody tr th:only-of-type {\n",
              "        vertical-align: middle;\n",
              "    }\n",
              "\n",
              "    .dataframe tbody tr th {\n",
              "        vertical-align: top;\n",
              "    }\n",
              "\n",
              "    .dataframe thead th {\n",
              "        text-align: right;\n",
              "    }\n",
              "</style>\n",
              "<table border=\"1\" class=\"dataframe\">\n",
              "  <thead>\n",
              "    <tr style=\"text-align: right;\">\n",
              "      <th></th>\n",
              "      <th>dayname</th>\n",
              "      <th>total</th>\n",
              "    </tr>\n",
              "  </thead>\n",
              "  <tbody>\n",
              "    <tr>\n",
              "      <th>4</th>\n",
              "      <td>Thursday</td>\n",
              "      <td>8470</td>\n",
              "    </tr>\n",
              "    <tr>\n",
              "      <th>0</th>\n",
              "      <td>Friday</td>\n",
              "      <td>8100</td>\n",
              "    </tr>\n",
              "    <tr>\n",
              "      <th>5</th>\n",
              "      <td>Tuesday</td>\n",
              "      <td>6627</td>\n",
              "    </tr>\n",
              "    <tr>\n",
              "      <th>1</th>\n",
              "      <td>Monday</td>\n",
              "      <td>6377</td>\n",
              "    </tr>\n",
              "    <tr>\n",
              "      <th>2</th>\n",
              "      <td>Saturday</td>\n",
              "      <td>6258</td>\n",
              "    </tr>\n",
              "    <tr>\n",
              "      <th>6</th>\n",
              "      <td>Wednesday</td>\n",
              "      <td>5958</td>\n",
              "    </tr>\n",
              "    <tr>\n",
              "      <th>3</th>\n",
              "      <td>Sunday</td>\n",
              "      <td>4440</td>\n",
              "    </tr>\n",
              "  </tbody>\n",
              "</table>\n",
              "</div>"
            ],
            "text/plain": [
              "     dayname  total\n",
              "4   Thursday   8470\n",
              "0     Friday   8100\n",
              "5    Tuesday   6627\n",
              "1     Monday   6377\n",
              "2   Saturday   6258\n",
              "6  Wednesday   5958\n",
              "3     Sunday   4440"
            ]
          },
          "metadata": {
            "tags": []
          },
          "execution_count": 14
        }
      ]
    },
    {
      "cell_type": "code",
      "metadata": {
        "id": "JOFsGyywM3Y6",
        "colab": {
          "base_uri": "https://localhost:8080/",
          "height": 279
        },
        "outputId": "71c7075b-2e0d-41df-8858-d63900bcec8b"
      },
      "source": [
        "# Mengatur height x width visualisasi\n",
        "plt.figure(figsize=(10,4))\n",
        "\n",
        "# Visualisasi menggunakan seaborn\n",
        "sns.barplot(data=total_by_day, x='dayname', y='total')\n",
        "plt.show()"
      ],
      "execution_count": null,
      "outputs": [
        {
          "output_type": "display_data",
          "data": {
            "image/png": "[encoded data removed]",
            "text/plain": [
              "<Figure size 720x288 with 1 Axes>"
            ]
          },
          "metadata": {
            "tags": [],
            "needs_background": "light"
          }
        }
      ]
    },
    {
      "cell_type": "markdown",
      "metadata": {
        "id": "foj5TN87ODCO"
      },
      "source": [
        "#### 4. 5 Stasiun keberangkatan favorit dan waktu (hour) dengan peminjaman sepeda paling favorit"
      ]
    },
    {
      "cell_type": "code",
      "metadata": {
        "id": "2hbfLcQ8NMXh",
        "colab": {
          "base_uri": "https://localhost:8080/",
          "height": 346
        },
        "outputId": "77a03c64-6b42-4513-f50e-49e8be7c3ae5"
      },
      "source": [
        "total_by_station_hour = data_bike.groupby(['start station name','hour'], as_index=False)['bikeid'].count() \\\n",
        "                                 .rename(columns={'bikeid': 'total'}) \\\n",
        "                                 .sort_values('total', ascending=False) \\\n",
        "                                 .head(10)\n",
        "\n",
        "total_by_station_hour"
      ],
      "execution_count": null,
      "outputs": [
        {
          "output_type": "execute_result",
          "data": {
            "text/html": [
              "<div>\n",
              "<style scoped>\n",
              "    .dataframe tbody tr th:only-of-type {\n",
              "        vertical-align: middle;\n",
              "    }\n",
              "\n",
              "    .dataframe tbody tr th {\n",
              "        vertical-align: top;\n",
              "    }\n",
              "\n",
              "    .dataframe thead th {\n",
              "        text-align: right;\n",
              "    }\n",
              "</style>\n",
              "<table border=\"1\" class=\"dataframe\">\n",
              "  <thead>\n",
              "    <tr style=\"text-align: right;\">\n",
              "      <th></th>\n",
              "      <th>start station name</th>\n",
              "      <th>hour</th>\n",
              "      <th>total</th>\n",
              "    </tr>\n",
              "  </thead>\n",
              "  <tbody>\n",
              "    <tr>\n",
              "      <th>384</th>\n",
              "      <td>Grove St PATH</td>\n",
              "      <td>06 PM</td>\n",
              "      <td>1113</td>\n",
              "    </tr>\n",
              "    <tr>\n",
              "      <th>382</th>\n",
              "      <td>Grove St PATH</td>\n",
              "      <td>05 PM</td>\n",
              "      <td>883</td>\n",
              "    </tr>\n",
              "    <tr>\n",
              "      <th>410</th>\n",
              "      <td>Hamilton Park</td>\n",
              "      <td>08 AM</td>\n",
              "      <td>744</td>\n",
              "    </tr>\n",
              "    <tr>\n",
              "      <th>386</th>\n",
              "      <td>Grove St PATH</td>\n",
              "      <td>07 PM</td>\n",
              "      <td>669</td>\n",
              "    </tr>\n",
              "    <tr>\n",
              "      <th>388</th>\n",
              "      <td>Grove St PATH</td>\n",
              "      <td>08 PM</td>\n",
              "      <td>423</td>\n",
              "    </tr>\n",
              "    <tr>\n",
              "      <th>183</th>\n",
              "      <td>Columbus Dr at Exchange Pl</td>\n",
              "      <td>05 PM</td>\n",
              "      <td>417</td>\n",
              "    </tr>\n",
              "    <tr>\n",
              "      <th>1011</th>\n",
              "      <td>Sip Ave</td>\n",
              "      <td>06 PM</td>\n",
              "      <td>377</td>\n",
              "    </tr>\n",
              "    <tr>\n",
              "      <th>380</th>\n",
              "      <td>Grove St PATH</td>\n",
              "      <td>04 PM</td>\n",
              "      <td>331</td>\n",
              "    </tr>\n",
              "    <tr>\n",
              "      <th>877</th>\n",
              "      <td>Newport PATH</td>\n",
              "      <td>05 PM</td>\n",
              "      <td>320</td>\n",
              "    </tr>\n",
              "    <tr>\n",
              "      <th>429</th>\n",
              "      <td>Harborside</td>\n",
              "      <td>05 PM</td>\n",
              "      <td>316</td>\n",
              "    </tr>\n",
              "  </tbody>\n",
              "</table>\n",
              "</div>"
            ],
            "text/plain": [
              "              start station name   hour  total\n",
              "384                Grove St PATH  06 PM   1113\n",
              "382                Grove St PATH  05 PM    883\n",
              "410                Hamilton Park  08 AM    744\n",
              "386                Grove St PATH  07 PM    669\n",
              "388                Grove St PATH  08 PM    423\n",
              "183   Columbus Dr at Exchange Pl  05 PM    417\n",
              "1011                     Sip Ave  06 PM    377\n",
              "380                Grove St PATH  04 PM    331\n",
              "877                 Newport PATH  05 PM    320\n",
              "429                   Harborside  05 PM    316"
            ]
          },
          "metadata": {
            "tags": []
          },
          "execution_count": 16
        }
      ]
    },
    {
      "cell_type": "code",
      "metadata": {
        "id": "uEeLqTP_NM5d",
        "colab": {
          "base_uri": "https://localhost:8080/",
          "height": 333
        },
        "outputId": "4ae870dc-f87e-4874-afa2-616cb0752c8f"
      },
      "source": [
        "# Mengatur height x width visualisasi\n",
        "plt.figure(figsize=(15,5))\n",
        "\n",
        "# Visualisasi menggunakan seaborn\n",
        "sns.barplot(data=total_by_station_hour, x='start station name', y='total', hue='hour')\n",
        "\n",
        "plt.ylabel('TOTAL')\n",
        "plt.xlabel('START STATION NAME')\n",
        "\n",
        "plt.show()"
      ],
      "execution_count": null,
      "outputs": [
        {
          "output_type": "display_data",
          "data": {
            "image/png": "[encoded data removed]",
            "text/plain": [
              "<Figure size 1080x360 with 1 Axes>"
            ]
          },
          "metadata": {
            "tags": [],
            "needs_background": "light"
          }
        }
      ]
    },
    {
      "cell_type": "markdown",
      "metadata": {
        "id": "jROgPwq_NNOk"
      },
      "source": [
        "#### 6. Apakah semakin tua umur seseorang (age) mempengaruhi lama waktunya peminjaman sepeda (trip duration by minute)?"
      ]
    },
    {
      "cell_type": "code",
      "metadata": {
        "id": "8iMNo6JJPnMM",
        "colab": {
          "base_uri": "https://localhost:8080/"
        },
        "outputId": "fd40a14b-dc80-428e-993f-1a9003e9795b"
      },
      "source": [
        "data_bike.info()"
      ],
      "execution_count": null,
      "outputs": [
        {
          "output_type": "stream",
          "text": [
            "<class 'pandas.core.frame.DataFrame'>\n",
            "RangeIndex: 46230 entries, 0 to 46229\n",
            "Data columns (total 16 columns):\n",
            " #   Column                  Non-Null Count  Dtype         \n",
            "---  ------                  --------------  -----         \n",
            " 0   tripduration            46230 non-null  int64         \n",
            " 1   starttime               46230 non-null  datetime64[ns]\n",
            " 2   stoptime                46230 non-null  object        \n",
            " 3   start station name      46230 non-null  object        \n",
            " 4   end station name        46230 non-null  object        \n",
            " 5   bikeid                  46230 non-null  int64         \n",
            " 6   usertype                46230 non-null  object        \n",
            " 7   birth year              46230 non-null  int64         \n",
            " 8   gender                  46230 non-null  int64         \n",
            " 9   dayname                 46230 non-null  category      \n",
            " 10  hour                    46230 non-null  object        \n",
            " 11  age                     46230 non-null  int64         \n",
            " 12  route                   46230 non-null  object        \n",
            " 13  age_category            46230 non-null  int64         \n",
            " 14  kategori_umur           46230 non-null  object        \n",
            " 15  tripduration_by_minute  46230 non-null  float64       \n",
            "dtypes: category(1), datetime64[ns](1), float64(1), int64(6), object(7)\n",
            "memory usage: 5.3+ MB\n"
          ],
          "name": "stdout"
        }
      ]
    },
    {
      "cell_type": "code",
      "metadata": {
        "id": "w7PM6auEOILg"
      },
      "source": [
        "# 6.1 Memecah data training dan data testing / Split training data and testing data"
      ],
      "execution_count": null,
      "outputs": []
    },
    {
      "cell_type": "code",
      "metadata": {
        "id": "BTbSZrzEOMhi"
      },
      "source": [
        "x = data_bike[['age_category']]\n",
        "y = data_bike['tripduration']"
      ],
      "execution_count": null,
      "outputs": []
    },
    {
      "cell_type": "code",
      "metadata": {
        "id": "u1Lo1HoQNOBH"
      },
      "source": [
        "x_train, x_test, y_train, y_test = train_test_split(x, y, test_size=0.2, random_state=1)"
      ],
      "execution_count": null,
      "outputs": []
    },
    {
      "cell_type": "code",
      "metadata": {
        "id": "pb539hY_OZH8",
        "colab": {
          "base_uri": "https://localhost:8080/",
          "height": 34
        },
        "outputId": "18157128-eda2-4b7b-be5a-55604abf175d"
      },
      "source": [
        "# 6.2 Fitting Metode Regresi Linear\n",
        "# 6.2.1 Initiate the model\n",
        "model = LinearRegression()\n",
        "\n",
        "# 6.2.2 Training process\n",
        "model.fit(x_train, y_train)"
      ],
      "execution_count": null,
      "outputs": [
        {
          "output_type": "execute_result",
          "data": {
            "text/plain": [
              "LinearRegression(copy_X=True, fit_intercept=True, n_jobs=None, normalize=False)"
            ]
          },
          "metadata": {
            "tags": []
          },
          "execution_count": 24
        }
      ]
    },
    {
      "cell_type": "code",
      "metadata": {
        "id": "4_O2T7txOZfQ",
        "colab": {
          "base_uri": "https://localhost:8080/",
          "height": 34
        },
        "outputId": "1eea5374-2fe2-4305-80f3-a8a28964d446"
      },
      "source": [
        "# 6.3 Testing and evaluation process\n",
        "y_pred = model.predict(x_test)\n",
        "error = metrics.mean_absolute_error(y_test, y_pred)\n",
        "\n",
        "print('MAE: {}'.format(error))"
      ],
      "execution_count": null,
      "outputs": [
        {
          "output_type": "stream",
          "text": [
            "MAE: 268.5136277752999\n"
          ],
          "name": "stdout"
        }
      ]
    },
    {
      "cell_type": "code",
      "metadata": {
        "id": "uJ89QDkBOZhg",
        "colab": {
          "base_uri": "https://localhost:8080/",
          "height": 513
        },
        "outputId": "387695c4-df56-4d51-9f75-aa16421bb6e0"
      },
      "source": [
        "# 6.4 Visualisasi Training Process\n",
        "# 6.4.1 Mengatur height x width visualisasi\n",
        "plt.figure(figsize=(10,8))\n",
        "\n",
        "# 6.4.2 Visualisasi data menggunakan seaborn\n",
        "# 6.4.2.1 Biru adalah data observasi\n",
        "plt.scatter(x_train, y_train, color = 'blue')\n",
        "\n",
        "# 6.4.2.2 Garis Merah adalah hasil prediksi dari machine learning\n",
        "plt.plot(x_train, model.predict(x_train), color = 'red')\n",
        "\n",
        "plt.ylabel('WAKTU PEMINJAMAN')\n",
        "plt.xlabel('UMUR')\n",
        "plt.title('Hubungan Waktu Peminjaman Sepeda dengan Umur Pengguna')\n",
        "\n",
        "plt.show()"
      ],
      "execution_count": null,
      "outputs": [
        {
          "output_type": "display_data",
          "data": {
            "image/png": "[encoded data removed]",
            "text/plain": [
              "<Figure size 720x576 with 1 Axes>"
            ]
          },
          "metadata": {
            "tags": [],
            "needs_background": "light"
          }
        }
      ]
    },
    {
      "cell_type": "markdown",
      "metadata": {
        "id": "hj99mZ8iOZkB"
      },
      "source": [
        "## **Conslusion**"
      ]
    },
    {
      "cell_type": "markdown",
      "metadata": {
        "id": "6LN0n94kPLjD"
      },
      "source": [
        "1. Kelompok umur yang paling banyak menggunakan Citybike rental adalah **Gen X** dengan **rentang umur 40 - 55 tahun**. Dan **gender** yang paling banyak menggunakan Citybike rental tersebut adalah **Laki-laki**. <br>\n",
        "<br>\n",
        "2. Total peminjaman sepeda harian terbanyak adalah hari **Kamis (Thursday)** dengan total **3.076 transaksi** serta waktu peminjaman harian paling banyak pada hari ini adalah pukul **08 AM, 04 PM, dan 06 PM**. Kemudian di urutan kedua untuk total peminjaman sepeda harian terbanyak adalah hari **Jumat (Friday)** dengan total **950 transaksi** serta waktu peminjaman harian paling banyak pada hari ini adalah pukul **08 AM**. Terakhir, untuk total peminjaman sepeda harian terbanyak selanjutnya adalah hari **Selasa (Tuesday)** dengan total **924 transaksi** serta waktu peminjaman harian paling banyak pada hari ini adalah pukul **08 AM**. <br>\n",
        "<br>\n",
        "3. Hari yang memiliki peminjaman sepeda paling banyak adalah hari **Kamis (Thursday)** dengan total **8.470 transaksi**.<br>\n",
        "<br>\n",
        "4. **5 Stasiun keberangkatan favorit** untuk peminjaman sepeda dan **waktu favoritnya** adalah:\n",
        "<br>i.) **Grove St PATH** dengan waktu favorit peminjaman sepeda adalah **05 AM, 06 AM, 07 PM dan 08 PM**.\n",
        "<br>ii.) **Hamilton Park** dengan waktu favorit peminjaman sepeda adalah **08 AM**.\n",
        "<br>iii.) **Columbus Dr at Exchange P1** dengan waktu favorit peminjaman sepeda adalah **5 PM**.\n",
        "<br>iv.) **Sip Ave** dengan waktu favorit peminjaman sepeda adalah **06 PM**.\n",
        "<br>v.) **Newport PATH** dengan waktu favorit peminjaman sepeda adalah **05 PM**.<br>\n",
        "<br>\n",
        "5. **Umur (age) pengguna tidaklah mempengaruhi lama waktu peminjaman sepeda (trip duration by minute)**, begitupun juga sebaliknya. Karena dari hasil **visualisasi** diatas **tidak memperlihatkan pola keterhubungan antara Umur Pengguna dengan Lama Waktu Peminjaman**. Walaupun nilai Mean Absolute Error (MAE) yang didapat dari model yang dibuat sebesar 4 menit dari nilai waktu data aslinya.\n"
      ]
    }
  ]
}